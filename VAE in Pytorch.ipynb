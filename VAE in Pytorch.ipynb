{
 "cells": [
  {
   "cell_type": "code",
   "execution_count": 1,
   "metadata": {},
   "outputs": [],
   "source": [
    "import math\n",
    "import torch as t\n",
    "import torch.nn as nn\n",
    "import torch.nn.functional as F\n",
    "import numpy as np\n",
    "import pandas as pd\n",
    "import matplotlib.pyplot as plt\n",
    "%matplotlib inline"
   ]
  },
  {
   "cell_type": "code",
   "execution_count": 2,
   "metadata": {},
   "outputs": [],
   "source": [
    "# activation should be some kind function name as F.relu, F.tanh\n",
    "# this Layer may be realized directly by nn.Module\n",
    "class Layer(nn.Module):\n",
    "    def __init__(self, D_in, D_out, activation):\n",
    "        super(Layer,self).__init__()\n",
    "        self.linear = nn.Linear(D_in, D_out)\n",
    "        self.activation = activation            #F.relu\n",
    "        \n",
    "    def forward(self, x):\n",
    "        if self.activation is None:\n",
    "            return self.linear(x)\n",
    "        else: \n",
    "            return self.activation(self.linear(x))\n",
    "    \n",
    "#Test code example\n",
    "#l1 = Layer(3,5, F.relu)\n",
    "#l1(t.randn(10,3))\n",
    "#or l1.forward(t.randn(10,3))"
   ]
  },
  {
   "cell_type": "code",
   "execution_count": 3,
   "metadata": {},
   "outputs": [],
   "source": [
    "# KL divergence for encoder's cost\n",
    "# mu.shape[1] : the dimension of mu \n",
    "EPS = 0.001\n",
    "\n",
    "def KL_mvn(mu, var):\n",
    "    return (mu.shape[1] + t.sum(t.log(var), dim=1) - t.sum(mu**2, dim=1) - t.sum(var, dim=1)) / 2.0\n",
    "\n",
    "# For decoder's cost\n",
    "def log_diag_mvn(mu, var):\n",
    "    def f(x):\n",
    "        k = mu.shape[1]\n",
    "        log_p = (-k / 2.0) * math.log(2 * math.pi) - 0.5 * t.sum(t.log(var), dim=1) - t.sum(0.5 * (1.0 / var) * (x - mu) * (x - mu), dim=1)\n",
    "        return log_p\n",
    "    return f"
   ]
  },
  {
   "cell_type": "code",
   "execution_count": 6,
   "metadata": {},
   "outputs": [],
   "source": [
    "class Encoder(nn.Module):\n",
    "    def __init__(self, layer_sizes, activations):\n",
    "        super(Encoder, self).__init__()\n",
    "        # add layers to the network\n",
    "        self.layers = []\n",
    "        for n_input, n_output, activation in zip(layer_sizes[:-2], layer_sizes[1:-1], activations[1:-1]):\n",
    "            self.layers.append(Layer(n_input, n_output, activation))\n",
    "            \n",
    "        #MLP Gaussian encoder \n",
    "        self.mu_layer = Layer(layer_sizes[-2], layer_sizes[-1], None)\n",
    "        self.logvar_layer = Layer(layer_sizes[-2], layer_sizes[-1], None)\n",
    "        \n",
    "        \n",
    "    def forward(self, x, eps):\n",
    "        # tow outputs \n",
    "        inp = x\n",
    "        for layer in self.layers:\n",
    "             x = layer.forward(x)\n",
    "        \n",
    "        mu = self.mu_layer.forward(x)\n",
    "        var = t.exp(self.logvar_layer.forward(x))\n",
    "        sigma = t.sqrt(var)\n",
    "        \n",
    "        # reparametrization trick\n",
    "        self.output = mu + sigma * eps\n",
    "        self.cost = -t.sum(KL_mvn(mu, var))\n",
    "        return self.output, self.cost"
   ]
  },
  {
   "cell_type": "code",
   "execution_count": 7,
   "metadata": {},
   "outputs": [],
   "source": [
    "class Decoder(nn.Module):\n",
    "    def __init__(self, layer_sizes, activations):\n",
    "        super(Decoder, self).__init__()\n",
    "        self.layers = []        \n",
    "        for n_input, n_output, activation in zip(layer_sizes[:-2], layer_sizes[1:-1], activations[1:-1]):\n",
    "            self.layers.append(Layer(n_input, n_output, activation))\n",
    "            \n",
    "        self.mu_layer = Layer(layer_sizes[-2], layer_sizes[-1], None)\n",
    "        self.logvar_layer = Layer(layer_sizes[-2], layer_sizes[-1], None)\n",
    "        \n",
    "    def forward(self, x, y):\n",
    "        inp = x\n",
    "        for layer in self.layers:\n",
    "             x = layer.forward(x)\n",
    "\n",
    "        mu = self.mu_layer.forward(x)\n",
    "        var = t.exp(self.logvar_layer.forward(x))\n",
    "        sigma = t.sqrt(var)\n",
    "        \n",
    "        # decoder cost function\n",
    "        self.mu = mu\n",
    "        self.var = var\n",
    "        self.output = mu\n",
    "        self.cost = -t.sum(log_diag_mvn(self.output , var)(y))\n",
    "        return self.output, self.cost"
   ]
  },
  {
   "cell_type": "code",
   "execution_count": 8,
   "metadata": {},
   "outputs": [],
   "source": [
    "class VAE(nn.Module):\n",
    "    def __init__(self, enc_layer_sizes, dec_layer_sizes, enc_activations, dec_activations):\n",
    "        super(VAE, self).__init__()\n",
    "        self.enc_mlp = Encoder(enc_layer_sizes, enc_activations)\n",
    "        self.dec_mlp = Decoder(dec_layer_sizes, dec_activations)\n",
    "        \n",
    "    def forward(self, x, eps):\n",
    "        e_cost = self.enc_mlp.forward(x, eps)[1]\n",
    "        d_cost = self.dec_mlp.forward(self.enc_mlp.forward(x, eps)[0], x)[1]\n",
    "        return e_cost + d_cost"
   ]
  },
  {
   "cell_type": "markdown",
   "metadata": {},
   "source": [
    "Test the VAE architecture with a simple example: a curve with Gaussian noise   "
   ]
  },
  {
   "cell_type": "code",
   "execution_count": 9,
   "metadata": {},
   "outputs": [
    {
     "data": {
      "image/png": "[encoded data removed]",
      "text/plain": [
       "<Figure size 576x288 with 1 Axes>"
      ]
     },
     "metadata": {},
     "output_type": "display_data"
    }
   ],
   "source": [
    "t.manual_seed(10)\n",
    "N = 1000\n",
    "X1 = t.rand(N, requires_grad = True)\n",
    "X = t.transpose(t.stack((X1, -1.0*t.sqrt(0.25 - (X1-0.5)**2) +0.6 + 0.1*t.rand(N)), dim = 0 ), 0, 1)\n",
    "plt.figure(figsize = (8,4))\n",
    "#plt.plot(X[:, 0].data.numpy(), X[:, 1].data.numpy())\n",
    "plt.scatter(X[:, 0].data.numpy(), X[:, 1].data.numpy(), linewidths =.3, s=3, cmap=plt.cm.cool)\n",
    "plt.axis([0, 1, 0, 2])\n",
    "plt.show()\n",
    "#X.shape[0]"
   ]
  },
  {
   "cell_type": "code",
   "execution_count": 16,
   "metadata": {},
   "outputs": [],
   "source": [
    "# declare the model \n",
    "enc_layer_sizes = [X.shape[1], 10, 10, 10, 1]\n",
    "enc_activations = [None, F.tanh, F.tanh, None, None]\n",
    "\n",
    "dec_layer_sizes = [enc_layer_sizes[-1], 10, 10, 10, X.shape[1]]\n",
    "dec_activations = [None, None, F.tanh, F.tanh, None]\n",
    "\n",
    "model = VAE(enc_layer_sizes, dec_layer_sizes, enc_activations, dec_activations)"
   ]
  },
  {
   "cell_type": "code",
   "execution_count": 17,
   "metadata": {},
   "outputs": [
    {
     "name": "stdout",
     "output_type": "stream",
     "text": [
      "tensor(192.8457)\n",
      "tensor(119.8480)\n",
      "tensor(68.9149)\n",
      "tensor(25.2695)\n",
      "tensor(-25.1000)\n",
      "tensor(-56.5756)\n",
      "tensor(-86.3229)\n",
      "tensor(-96.2779)\n",
      "tensor(-120.6112)\n",
      "tensor(-121.7070)\n",
      "tensor(-132.9432)\n",
      "tensor(-136.0933)\n",
      "tensor(-151.9892)\n",
      "tensor(-153.3959)\n",
      "tensor(-167.7629)\n",
      "tensor(-164.1511)\n",
      "tensor(-180.3418)\n",
      "tensor(-185.3131)\n",
      "tensor(-214.5855)\n",
      "tensor(-218.4832)\n",
      "tensor(-221.3182)\n",
      "tensor(-224.6881)\n",
      "tensor(-224.1922)\n",
      "tensor(-217.0706)\n",
      "tensor(-241.9244)\n",
      "tensor(-240.7706)\n",
      "tensor(-231.7773)\n",
      "tensor(-245.6914)\n",
      "tensor(-228.3418)\n",
      "tensor(-225.1387)\n",
      "tensor(-231.1369)\n",
      "tensor(-237.6461)\n",
      "tensor(-231.6447)\n",
      "tensor(-232.2560)\n",
      "tensor(-233.2654)\n",
      "tensor(-226.6514)\n",
      "tensor(-241.7902)\n",
      "tensor(-242.2083)\n",
      "tensor(-249.4384)\n",
      "tensor(-243.7425)\n",
      "tensor(-234.0250)\n",
      "tensor(-234.0633)\n",
      "tensor(-243.9621)\n",
      "tensor(-243.6463)\n",
      "tensor(-247.2762)\n",
      "tensor(-231.3341)\n",
      "tensor(-235.7959)\n",
      "tensor(-244.8285)\n",
      "tensor(-249.3563)\n",
      "tensor(-235.0660)\n"
     ]
    }
   ],
   "source": [
    "# parameters \n",
    "lr = 0.001\n",
    "batch_size = 100\n",
    "epochs = 1000\n",
    "num_batch = X.shape[0]/ batch_size\n",
    "\n",
    "# optimizer\n",
    "optimizer = t.optim.Adam(model.parameters(), lr=lr)\n",
    "\n",
    "# training loop \n",
    "for i in range(int(epochs * num_batch)):\n",
    "    k = i % num_batch\n",
    "    x = X[int(k * batch_size):int((k+1) * batch_size), :]\n",
    "    eps = t.rand(x.shape[0],enc_layer_sizes[-1], requires_grad = True)\n",
    "    \n",
    "    # loss function\n",
    "    loss = model.forward(x, eps)\n",
    "    \n",
    "    # backpropagation \n",
    "    optimizer.zero_grad()\n",
    "    loss.backward(retain_graph=True)\n",
    "    optimizer.step()\n",
    "    \n",
    "    if i%200 ==0:\n",
    "        print(loss.data)"
   ]
  },
  {
   "cell_type": "code",
   "execution_count": 18,
   "metadata": {},
   "outputs": [
    {
     "data": {
      "image/png": "[encoded data removed]",
      "text/plain": [
       "<Figure size 576x288 with 1 Axes>"
      ]
     },
     "metadata": {},
     "output_type": "display_data"
    }
   ],
   "source": [
    "# reconstruct the data with trained model\n",
    "eps = t.rand(X.shape[0],enc_layer_sizes[-1], requires_grad = True)\n",
    "Z = model.enc_mlp(X, eps)[0]\n",
    "X_projected = model.dec_mlp(Z, X)[0]\n",
    "\n",
    "plt.figure(figsize = (8,4))\n",
    "plt.scatter(X[:, 0].data.numpy(), X[:, 1].data.numpy(), c='blue', lw=.3, s=3)\n",
    "plt.scatter(X_projected[:, 0].data.numpy(), X_projected[:, 1].data.numpy(), c='red', lw=.3, s=3)\n",
    "plt.axis([0, 1, 0, 1])\n",
    "plt.show()"
   ]
  },
  {
   "cell_type": "code",
   "execution_count": null,
   "metadata": {},
   "outputs": [],
   "source": []
  },
  {
   "cell_type": "code",
   "execution_count": null,
   "metadata": {},
   "outputs": [],
   "source": []
  },
  {
   "cell_type": "code",
   "execution_count": null,
   "metadata": {},
   "outputs": [],
   "source": []
  },
  {
   "cell_type": "code",
   "execution_count": null,
   "metadata": {},
   "outputs": [],
   "source": []
  },
  {
   "cell_type": "code",
   "execution_count": null,
   "metadata": {},
   "outputs": [],
   "source": []
  }
 ],
 "metadata": {
  "kernelspec": {
   "display_name": "Python 3",
   "language": "python",
   "name": "python3"
  },
  "language_info": {
   "codemirror_mode": {
    "name": "ipython",
    "version": 3
   },
   "file_extension": ".py",
   "mimetype": "text/x-python",
   "name": "python",
   "nbconvert_exporter": "python",
   "pygments_lexer": "ipython3",
   "version": "3.6.5"
  }
 },
 "nbformat": 4,
 "nbformat_minor": 2
}
