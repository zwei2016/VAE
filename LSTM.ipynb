{
 "cells": [
  {
   "cell_type": "code",
   "execution_count": 1,
   "metadata": {},
   "outputs": [
    {
     "data": {
      "text/plain": [
       "<torch._C.Generator at 0x1c90fe98bd0>"
      ]
     },
     "execution_count": 1,
     "metadata": {},
     "output_type": "execute_result"
    }
   ],
   "source": [
    "import math\n",
    "import torch as t\n",
    "import torch.nn as nn\n",
    "import torch.nn.functional as F\n",
    "import numpy as np\n",
    "import pandas as pd\n",
    "import matplotlib.pyplot as plt\n",
    "%matplotlib inline\n",
    "\n",
    "t.manual_seed(1)"
   ]
  },
  {
   "cell_type": "code",
   "execution_count": 2,
   "metadata": {},
   "outputs": [],
   "source": [
    "class RNNcell(nn.Module):\n",
    "    # y is the hidden state: hidden of shape (batch, hidden_size)\n",
    "    # input of shape (batch, input_size): tensor containing input features\n",
    "    # format as torch.nn.RNNCell in Pytorch\n",
    "    def __init__(self, x_i_size, h_i_size):\n",
    "        super(RNNcell,self).__init__()\n",
    "        self.linearX = nn.Linear(x_i_size, h_i_size)\n",
    "        self.linearA = nn.Linear(h_i_size, h_i_size)\n",
    "        self.linearA1 = nn.Linear(h_i_size, h_i_size)\n",
    "        #self.m = nn.Softmax(dim = 1)\n",
    "        \n",
    "    def forward(self, x_t, a_prev):\n",
    "        a_t = F.tanh(self.linearX(x_t) + self.linearA(a_prev))\n",
    "        #y_t = self.m(self.linearA1(a_t))\n",
    "        return a_t\n",
    "    \n",
    "        "
   ]
  },
  {
   "cell_type": "code",
   "execution_count": 37,
   "metadata": {},
   "outputs": [],
   "source": [
    "# Key class defined in this file \n",
    "class LSTMcell(nn.Module):\n",
    "    def __init__(self, x_i_size, h_i_size):\n",
    "        super(LSTMcell, self).__init__()\n",
    "        \n",
    "        self.linear_i_1 = nn.Linear(x_i_size, h_i_size, bias=True)\n",
    "        self.linear_i_2 = nn.Linear(h_i_size, h_i_size, bias=True)\n",
    "        \n",
    "        self.linear_f_1 = nn.Linear(x_i_size, h_i_size, bias=True)\n",
    "        self.linear_f_2 = nn.Linear(h_i_size, h_i_size, bias=True)\n",
    "        \n",
    "        self.linear_g_1 = nn.Linear(x_i_size, h_i_size, bias=True)\n",
    "        self.linear_g_2 = nn.Linear(h_i_size, h_i_size, bias=True)  \n",
    "        \n",
    "        self.linear_o_1 = nn.Linear(x_i_size, h_i_size, bias=True)\n",
    "        self.linear_o_2 = nn.Linear(h_i_size, h_i_size, bias=True)\n",
    "        \n",
    "    def forward(self, x_t, c_prev, h_prev):\n",
    "        \n",
    "        \n",
    "        i = F.sigmoid(self.linear_i_1(x_t) + self.linear_i_2(h_prev))\n",
    "        f = F.sigmoid(self.linear_f_1(x_t) + self.linear_f_2(h_prev))\n",
    "        g = F.tanh(self.linear_g_1(x_t) + self.linear_g_2(h_prev))\n",
    "        o = F.sigmoid(self.linear_o_1(x_t) + self.linear_o_2(h_prev))\n",
    "        \n",
    "        c_t = t.mul(f, c_prev) + t.mul(i, g)\n",
    "        h_t = t.mul(o, F.tanh(c_t))\n",
    "        \n",
    "        return c_t, h_t\n",
    "    "
   ]
  },
  {
   "cell_type": "code",
   "execution_count": 38,
   "metadata": {},
   "outputs": [],
   "source": [
    "# test code for format\n",
    "t.manual_seed(2)\n",
    "rnn = LSTMcell(10, 20)\n",
    "input = t.randn(6, 3, 10)\n",
    "hx = t.randn(3, 20)\n",
    "cx = t.randn(3, 20)\n",
    "output = []\n",
    "for i in range(6):\n",
    "    cx, hx = rnn(input[i], cx, hx)\n",
    "    output.append(hx)"
   ]
  },
  {
   "cell_type": "code",
   "execution_count": 39,
   "metadata": {},
   "outputs": [
    {
     "data": {
      "text/plain": [
       "torch.Size([3, 20])"
      ]
     },
     "execution_count": 39,
     "metadata": {},
     "output_type": "execute_result"
    }
   ],
   "source": [
    "output[0].shape"
   ]
  },
  {
   "cell_type": "code",
   "execution_count": null,
   "metadata": {},
   "outputs": [],
   "source": []
  },
  {
   "cell_type": "code",
   "execution_count": null,
   "metadata": {},
   "outputs": [],
   "source": []
  },
  {
   "cell_type": "markdown",
   "metadata": {},
   "source": [
    "Test with case: time series 1 dimension. \n",
    "The test code is from the book \"Learn Deep Learning with PyTorch\" Chapiter 5, with modification "
   ]
  },
  {
   "cell_type": "code",
   "execution_count": 40,
   "metadata": {},
   "outputs": [],
   "source": [
    "data_csv = pd.read_csv('./data.csv', usecols=[1])"
   ]
  },
  {
   "cell_type": "code",
   "execution_count": 41,
   "metadata": {},
   "outputs": [
    {
     "data": {
      "text/plain": [
       "[<matplotlib.lines.Line2D at 0x1c9143e8c18>]"
      ]
     },
     "execution_count": 41,
     "metadata": {},
     "output_type": "execute_result"
    },
    {
     "data": {
      "image/png": "[encoded data removed]",
      "text/plain": [
       "<Figure size 432x288 with 1 Axes>"
      ]
     },
     "metadata": {},
     "output_type": "display_data"
    }
   ],
   "source": [
    "#original time seirs\n",
    "plt.plot(data_csv)"
   ]
  },
  {
   "cell_type": "code",
   "execution_count": 42,
   "metadata": {},
   "outputs": [],
   "source": [
    "# preprocessing\n",
    "data_csv = data_csv.dropna()\n",
    "dataset = data_csv.values\n",
    "dataset = dataset.astype('float32')\n",
    "max_value = np.max(dataset)\n",
    "min_value = np.min(dataset)\n",
    "scalar = max_value - min_value\n",
    "dataset = list(map(lambda x: x / scalar, dataset))"
   ]
  },
  {
   "cell_type": "code",
   "execution_count": 43,
   "metadata": {},
   "outputs": [],
   "source": [
    "def create_dataset(dataset, look_back=2):\n",
    "    dataX, dataY = [], []\n",
    "    for i in range(len(dataset) - look_back):\n",
    "        a = dataset[i:(i + look_back)]\n",
    "        dataX.append(a)\n",
    "        dataY.append(dataset[i + look_back])\n",
    "    return np.array(dataX), np.array(dataY)"
   ]
  },
  {
   "cell_type": "code",
   "execution_count": 44,
   "metadata": {},
   "outputs": [],
   "source": [
    "class lstm_reg(nn.Module):\n",
    "    def __init__(self, input_size, hidden_size, output_size=1, num_layers=2):\n",
    "        super(lstm_reg, self).__init__()\n",
    "        self.hidden_size = hidden_size\n",
    "        self.rnn = LSTMcell(input_size, hidden_size) # rnn\n",
    "        self.reg = nn.Linear(hidden_size, output_size) # \n",
    "        \n",
    "    def forward(self, x):\n",
    "        c_prev = t.rand(1,self.hidden_size)\n",
    "        h_prev = t.rand(1,self.hidden_size)\n",
    "        x, _ = self.rnn(x, c_prev, h_prev) # (seq, batch, hidden), modification is here for my own class\n",
    "        s, b, h = x.shape\n",
    "        x = x.view(s*b, h) # 转换成线性层的输入格式\n",
    "        x = self.reg(x)\n",
    "        x = x.view(s, b, -1)\n",
    "        return x"
   ]
  },
  {
   "cell_type": "code",
   "execution_count": 45,
   "metadata": {},
   "outputs": [],
   "source": [
    "# input and output \n",
    "data_X, data_Y = create_dataset(dataset)"
   ]
  },
  {
   "cell_type": "code",
   "execution_count": 46,
   "metadata": {},
   "outputs": [],
   "source": [
    "# dataset for training and test，70% for training\n",
    "train_size = int(len(data_X) * 0.7)\n",
    "test_size = len(data_X) - train_size\n",
    "train_X = data_X[:train_size]\n",
    "train_Y = data_Y[:train_size]\n",
    "test_X = data_X[train_size:]\n",
    "test_Y = data_Y[train_size:]"
   ]
  },
  {
   "cell_type": "code",
   "execution_count": 47,
   "metadata": {},
   "outputs": [],
   "source": [
    "train_X = train_X.reshape(-1, 1, 2)\n",
    "train_Y = train_Y.reshape(-1, 1, 1)\n",
    "test_X = test_X.reshape(-1, 1, 2)\n",
    "\n",
    "train_x = t.from_numpy(train_X)\n",
    "train_y = t.from_numpy(train_Y)\n",
    "test_x = t.from_numpy(test_X)"
   ]
  },
  {
   "cell_type": "code",
   "execution_count": 48,
   "metadata": {},
   "outputs": [],
   "source": [
    "net = lstm_reg(2, 4)\n",
    "\n",
    "criterion = nn.MSELoss()\n",
    "optimizer = t.optim.Adam(net.parameters(), lr=1e-2)"
   ]
  },
  {
   "cell_type": "code",
   "execution_count": 49,
   "metadata": {},
   "outputs": [
    {
     "name": "stderr",
     "output_type": "stream",
     "text": [
      "C:\\ProgramData\\Anaconda2\\envs\\py36\\lib\\site-packages\\ipykernel_launcher.py:10: UserWarning: invalid index of a 0-dim tensor. This will be an error in PyTorch 0.5. Use tensor.item() to convert a 0-dim tensor to a Python number\n",
      "  # Remove the CWD from sys.path while we load stuff.\n"
     ]
    },
    {
     "name": "stdout",
     "output_type": "stream",
     "text": [
      "Epoch: 100, Loss: 0.04183\n",
      "Epoch: 200, Loss: 0.02520\n",
      "Epoch: 300, Loss: 0.00918\n",
      "Epoch: 400, Loss: 0.00740\n",
      "Epoch: 500, Loss: 0.00576\n",
      "Epoch: 600, Loss: 0.00312\n",
      "Epoch: 700, Loss: 0.00301\n",
      "Epoch: 800, Loss: 0.00313\n",
      "Epoch: 900, Loss: 0.00390\n",
      "Epoch: 1000, Loss: 0.00347\n"
     ]
    }
   ],
   "source": [
    "for e in range(1000):\n",
    "    # forward \n",
    "    out = net(train_x)\n",
    "    loss = criterion(out, train_y)\n",
    "    # back propagation\n",
    "    optimizer.zero_grad()\n",
    "    loss.backward()\n",
    "    optimizer.step()\n",
    "    if (e + 1) % 100 == 0: \n",
    "        print('Epoch: {}, Loss: {:.5f}'.format(e + 1, loss.data[0]))"
   ]
  },
  {
   "cell_type": "code",
   "execution_count": 50,
   "metadata": {},
   "outputs": [],
   "source": [
    "net = net.eval()"
   ]
  },
  {
   "cell_type": "code",
   "execution_count": 51,
   "metadata": {},
   "outputs": [],
   "source": [
    "data_X = data_X.reshape(-1, 1, 2)\n",
    "data_X = t.from_numpy(data_X)\n",
    "\n",
    "pred_test = net(data_X) "
   ]
  },
  {
   "cell_type": "code",
   "execution_count": 52,
   "metadata": {},
   "outputs": [],
   "source": [
    "pred_test = pred_test.view(-1).data.numpy()"
   ]
  },
  {
   "cell_type": "code",
   "execution_count": 53,
   "metadata": {},
   "outputs": [
    {
     "data": {
      "text/plain": [
       "<matplotlib.legend.Legend at 0x1c914464630>"
      ]
     },
     "execution_count": 53,
     "metadata": {},
     "output_type": "execute_result"
    },
    {
     "data": {
      "image/png": "[encoded data removed]",
      "text/plain": [
       "<Figure size 432x288 with 1 Axes>"
      ]
     },
     "metadata": {},
     "output_type": "display_data"
    }
   ],
   "source": [
    "# compare the results \n",
    "plt.plot(pred_test, 'r', label='prediction')\n",
    "plt.plot(dataset, 'b', label='real')\n",
    "plt.legend(loc='best')"
   ]
  },
  {
   "cell_type": "code",
   "execution_count": null,
   "metadata": {},
   "outputs": [],
   "source": []
  }
 ],
 "metadata": {
  "kernelspec": {
   "display_name": "Python 3",
   "language": "python",
   "name": "python3"
  },
  "language_info": {
   "codemirror_mode": {
    "name": "ipython",
    "version": 3
   },
   "file_extension": ".py",
   "mimetype": "text/x-python",
   "name": "python",
   "nbconvert_exporter": "python",
   "pygments_lexer": "ipython3",
   "version": "3.6.5"
  }
 },
 "nbformat": 4,
 "nbformat_minor": 2
}
